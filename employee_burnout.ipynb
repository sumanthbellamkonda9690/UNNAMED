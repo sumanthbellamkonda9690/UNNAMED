{
  "cells": [
    {
      "cell_type": "markdown",
      "metadata": {
        "id": "view-in-github",
        "colab_type": "text"
      },
      "source": [
        "<a href=\"https://colab.research.google.com/github/sumanthbellamkonda9690/UNNAMED/blob/main/employee_burnout.ipynb\" target=\"_parent\"><img src=\"https://colab.research.google.com/assets/colab-badge.svg\" alt=\"Open In Colab\"/></a>"
      ]
    },
    {
      "cell_type": "markdown",
      "metadata": {
        "papermill": {
          "duration": 0.02613,
          "end_time": "2020-11-25T13:04:57.740125",
          "exception": false,
          "start_time": "2020-11-25T13:04:57.713995",
          "status": "completed"
        },
        "tags": [],
        "id": "UNwWls16Sood"
      },
      "source": []
    },
    {
      "cell_type": "markdown",
      "metadata": {
        "papermill": {
          "duration": 0.024523,
          "end_time": "2020-11-25T13:04:57.790025",
          "exception": false,
          "start_time": "2020-11-25T13:04:57.765502",
          "status": "completed"
        },
        "tags": [],
        "id": "byxbRNXDSoog"
      },
      "source": []
    },
    {
      "cell_type": "markdown",
      "metadata": {
        "papermill": {
          "duration": 0.024616,
          "end_time": "2020-11-25T13:04:57.839395",
          "exception": false,
          "start_time": "2020-11-25T13:04:57.814779",
          "status": "completed"
        },
        "tags": [],
        "id": "Of7zc0HpSooh"
      },
      "source": [
        "#### Importing necessary modules and reading the data in as pandas dataframe"
      ]
    },
    {
      "cell_type": "code",
      "execution_count": null,
      "metadata": {
        "_cell_guid": "b1076dfc-b9ad-4769-8c92-a6c4dae69d19",
        "_uuid": "8f2839f25d086af736a60e9eeb907d3b93b6e0e5",
        "execution": {
          "iopub.execute_input": "2020-11-25T13:04:57.902304Z",
          "iopub.status.busy": "2020-11-25T13:04:57.901316Z",
          "iopub.status.idle": "2020-11-25T13:04:59.375626Z",
          "shell.execute_reply": "2020-11-25T13:04:59.374679Z"
        },
        "papermill": {
          "duration": 1.511443,
          "end_time": "2020-11-25T13:04:59.375779",
          "exception": false,
          "start_time": "2020-11-25T13:04:57.864336",
          "status": "completed"
        },
        "tags": [],
        "id": "SJAC7E9jSooi"
      },
      "outputs": [],
      "source": [
        "import numpy as np\n",
        "import pandas as pd\n",
        "import matplotlib.pyplot as plt\n",
        "import seaborn as sns\n",
        "%matplotlib inline\n",
        "\n",
        "from sklearn.linear_model import LinearRegression\n",
        "from sklearn.preprocessing import PolynomialFeatures\n",
        "\n",
        "import os\n",
        "for dirname, _, filenames in os.walk('/kaggle/input'):\n",
        "    for filename in filenames:\n",
        "        print(os.path.join(dirname, filename))"
      ]
    },
    {
      "cell_type": "code",
      "execution_count": null,
      "metadata": {
        "_cell_guid": "79c7e3d0-c299-4dcb-8224-4455121ee9b0",
        "_uuid": "d629ff2d2480ee46fbb7e2d37f6b5fab8052498a",
        "execution": {
          "iopub.execute_input": "2020-11-25T13:04:59.445187Z",
          "iopub.status.busy": "2020-11-25T13:04:59.444049Z",
          "iopub.status.idle": "2020-11-25T13:04:59.578019Z",
          "shell.execute_reply": "2020-11-25T13:04:59.577186Z"
        },
        "papermill": {
          "duration": 0.171901,
          "end_time": "2020-11-25T13:04:59.578180",
          "exception": false,
          "start_time": "2020-11-25T13:04:59.406279",
          "status": "completed"
        },
        "tags": [],
        "colab": {
          "base_uri": "https://localhost:8080/",
          "height": 345
        },
        "id": "treVvpkWSool",
        "outputId": "b9b1d0a9-7525-4dc4-9a0f-06e805454985"
      },
      "outputs": [
        {
          "output_type": "error",
          "ename": "FileNotFoundError",
          "evalue": "ignored",
          "traceback": [
            "\u001b[0;31m---------------------------------------------------------------------------\u001b[0m",
            "\u001b[0;31mFileNotFoundError\u001b[0m                         Traceback (most recent call last)",
            "\u001b[0;32m<ipython-input-2-3cde1eaffb49>\u001b[0m in \u001b[0;36m<cell line: 1>\u001b[0;34m()\u001b[0m\n\u001b[0;32m----> 1\u001b[0;31m \u001b[0mdf\u001b[0m \u001b[0;34m=\u001b[0m \u001b[0mpd\u001b[0m\u001b[0;34m.\u001b[0m\u001b[0mread_csv\u001b[0m\u001b[0;34m(\u001b[0m\u001b[0;34m'../input/are-your-employees-burning-out/train.csv'\u001b[0m\u001b[0;34m,\u001b[0m \u001b[0mparse_dates\u001b[0m\u001b[0;34m=\u001b[0m\u001b[0;34m[\u001b[0m\u001b[0;34m'Date of Joining'\u001b[0m\u001b[0;34m]\u001b[0m\u001b[0;34m)\u001b[0m\u001b[0;34m\u001b[0m\u001b[0;34m\u001b[0m\u001b[0m\n\u001b[0m\u001b[1;32m      2\u001b[0m \u001b[0mtest_df\u001b[0m \u001b[0;34m=\u001b[0m \u001b[0mpd\u001b[0m\u001b[0;34m.\u001b[0m\u001b[0mread_csv\u001b[0m\u001b[0;34m(\u001b[0m\u001b[0;34m'../input/are-your-employees-burning-out/test.csv'\u001b[0m\u001b[0;34m,\u001b[0m \u001b[0mparse_dates\u001b[0m\u001b[0;34m=\u001b[0m\u001b[0;34m[\u001b[0m\u001b[0;34m'Date of Joining'\u001b[0m\u001b[0;34m]\u001b[0m\u001b[0;34m)\u001b[0m\u001b[0;34m\u001b[0m\u001b[0;34m\u001b[0m\u001b[0m\n\u001b[1;32m      3\u001b[0m \u001b[0msample_submission\u001b[0m \u001b[0;34m=\u001b[0m \u001b[0mpd\u001b[0m\u001b[0;34m.\u001b[0m\u001b[0mread_csv\u001b[0m\u001b[0;34m(\u001b[0m\u001b[0;34m'../input/are-your-employees-burning-out/sample_submission.csv'\u001b[0m\u001b[0;34m)\u001b[0m\u001b[0;34m\u001b[0m\u001b[0;34m\u001b[0m\u001b[0m\n",
            "\u001b[0;32m/usr/local/lib/python3.10/dist-packages/pandas/util/_decorators.py\u001b[0m in \u001b[0;36mwrapper\u001b[0;34m(*args, **kwargs)\u001b[0m\n\u001b[1;32m    209\u001b[0m                 \u001b[0;32melse\u001b[0m\u001b[0;34m:\u001b[0m\u001b[0;34m\u001b[0m\u001b[0;34m\u001b[0m\u001b[0m\n\u001b[1;32m    210\u001b[0m                     \u001b[0mkwargs\u001b[0m\u001b[0;34m[\u001b[0m\u001b[0mnew_arg_name\u001b[0m\u001b[0;34m]\u001b[0m \u001b[0;34m=\u001b[0m \u001b[0mnew_arg_value\u001b[0m\u001b[0;34m\u001b[0m\u001b[0;34m\u001b[0m\u001b[0m\n\u001b[0;32m--> 211\u001b[0;31m             \u001b[0;32mreturn\u001b[0m \u001b[0mfunc\u001b[0m\u001b[0;34m(\u001b[0m\u001b[0;34m*\u001b[0m\u001b[0margs\u001b[0m\u001b[0;34m,\u001b[0m \u001b[0;34m**\u001b[0m\u001b[0mkwargs\u001b[0m\u001b[0;34m)\u001b[0m\u001b[0;34m\u001b[0m\u001b[0;34m\u001b[0m\u001b[0m\n\u001b[0m\u001b[1;32m    212\u001b[0m \u001b[0;34m\u001b[0m\u001b[0m\n\u001b[1;32m    213\u001b[0m         \u001b[0;32mreturn\u001b[0m \u001b[0mcast\u001b[0m\u001b[0;34m(\u001b[0m\u001b[0mF\u001b[0m\u001b[0;34m,\u001b[0m \u001b[0mwrapper\u001b[0m\u001b[0;34m)\u001b[0m\u001b[0;34m\u001b[0m\u001b[0;34m\u001b[0m\u001b[0m\n",
            "\u001b[0;32m/usr/local/lib/python3.10/dist-packages/pandas/util/_decorators.py\u001b[0m in \u001b[0;36mwrapper\u001b[0;34m(*args, **kwargs)\u001b[0m\n\u001b[1;32m    329\u001b[0m                     \u001b[0mstacklevel\u001b[0m\u001b[0;34m=\u001b[0m\u001b[0mfind_stack_level\u001b[0m\u001b[0;34m(\u001b[0m\u001b[0;34m)\u001b[0m\u001b[0;34m,\u001b[0m\u001b[0;34m\u001b[0m\u001b[0;34m\u001b[0m\u001b[0m\n\u001b[1;32m    330\u001b[0m                 )\n\u001b[0;32m--> 331\u001b[0;31m             \u001b[0;32mreturn\u001b[0m \u001b[0mfunc\u001b[0m\u001b[0;34m(\u001b[0m\u001b[0;34m*\u001b[0m\u001b[0margs\u001b[0m\u001b[0;34m,\u001b[0m \u001b[0;34m**\u001b[0m\u001b[0mkwargs\u001b[0m\u001b[0;34m)\u001b[0m\u001b[0;34m\u001b[0m\u001b[0;34m\u001b[0m\u001b[0m\n\u001b[0m\u001b[1;32m    332\u001b[0m \u001b[0;34m\u001b[0m\u001b[0m\n\u001b[1;32m    333\u001b[0m         \u001b[0;31m# error: \"Callable[[VarArg(Any), KwArg(Any)], Any]\" has no\u001b[0m\u001b[0;34m\u001b[0m\u001b[0;34m\u001b[0m\u001b[0m\n",
            "\u001b[0;32m/usr/local/lib/python3.10/dist-packages/pandas/io/parsers/readers.py\u001b[0m in \u001b[0;36mread_csv\u001b[0;34m(filepath_or_buffer, sep, delimiter, header, names, index_col, usecols, squeeze, prefix, mangle_dupe_cols, dtype, engine, converters, true_values, false_values, skipinitialspace, skiprows, skipfooter, nrows, na_values, keep_default_na, na_filter, verbose, skip_blank_lines, parse_dates, infer_datetime_format, keep_date_col, date_parser, dayfirst, cache_dates, iterator, chunksize, compression, thousands, decimal, lineterminator, quotechar, quoting, doublequote, escapechar, comment, encoding, encoding_errors, dialect, error_bad_lines, warn_bad_lines, on_bad_lines, delim_whitespace, low_memory, memory_map, float_precision, storage_options)\u001b[0m\n\u001b[1;32m    948\u001b[0m     \u001b[0mkwds\u001b[0m\u001b[0;34m.\u001b[0m\u001b[0mupdate\u001b[0m\u001b[0;34m(\u001b[0m\u001b[0mkwds_defaults\u001b[0m\u001b[0;34m)\u001b[0m\u001b[0;34m\u001b[0m\u001b[0;34m\u001b[0m\u001b[0m\n\u001b[1;32m    949\u001b[0m \u001b[0;34m\u001b[0m\u001b[0m\n\u001b[0;32m--> 950\u001b[0;31m     \u001b[0;32mreturn\u001b[0m \u001b[0m_read\u001b[0m\u001b[0;34m(\u001b[0m\u001b[0mfilepath_or_buffer\u001b[0m\u001b[0;34m,\u001b[0m \u001b[0mkwds\u001b[0m\u001b[0;34m)\u001b[0m\u001b[0;34m\u001b[0m\u001b[0;34m\u001b[0m\u001b[0m\n\u001b[0m\u001b[1;32m    951\u001b[0m \u001b[0;34m\u001b[0m\u001b[0m\n\u001b[1;32m    952\u001b[0m \u001b[0;34m\u001b[0m\u001b[0m\n",
            "\u001b[0;32m/usr/local/lib/python3.10/dist-packages/pandas/io/parsers/readers.py\u001b[0m in \u001b[0;36m_read\u001b[0;34m(filepath_or_buffer, kwds)\u001b[0m\n\u001b[1;32m    603\u001b[0m \u001b[0;34m\u001b[0m\u001b[0m\n\u001b[1;32m    604\u001b[0m     \u001b[0;31m# Create the parser.\u001b[0m\u001b[0;34m\u001b[0m\u001b[0;34m\u001b[0m\u001b[0m\n\u001b[0;32m--> 605\u001b[0;31m     \u001b[0mparser\u001b[0m \u001b[0;34m=\u001b[0m \u001b[0mTextFileReader\u001b[0m\u001b[0;34m(\u001b[0m\u001b[0mfilepath_or_buffer\u001b[0m\u001b[0;34m,\u001b[0m \u001b[0;34m**\u001b[0m\u001b[0mkwds\u001b[0m\u001b[0;34m)\u001b[0m\u001b[0;34m\u001b[0m\u001b[0;34m\u001b[0m\u001b[0m\n\u001b[0m\u001b[1;32m    606\u001b[0m \u001b[0;34m\u001b[0m\u001b[0m\n\u001b[1;32m    607\u001b[0m     \u001b[0;32mif\u001b[0m \u001b[0mchunksize\u001b[0m \u001b[0;32mor\u001b[0m \u001b[0miterator\u001b[0m\u001b[0;34m:\u001b[0m\u001b[0;34m\u001b[0m\u001b[0;34m\u001b[0m\u001b[0m\n",
            "\u001b[0;32m/usr/local/lib/python3.10/dist-packages/pandas/io/parsers/readers.py\u001b[0m in \u001b[0;36m__init__\u001b[0;34m(self, f, engine, **kwds)\u001b[0m\n\u001b[1;32m   1440\u001b[0m \u001b[0;34m\u001b[0m\u001b[0m\n\u001b[1;32m   1441\u001b[0m         \u001b[0mself\u001b[0m\u001b[0;34m.\u001b[0m\u001b[0mhandles\u001b[0m\u001b[0;34m:\u001b[0m \u001b[0mIOHandles\u001b[0m \u001b[0;34m|\u001b[0m \u001b[0;32mNone\u001b[0m \u001b[0;34m=\u001b[0m \u001b[0;32mNone\u001b[0m\u001b[0;34m\u001b[0m\u001b[0;34m\u001b[0m\u001b[0m\n\u001b[0;32m-> 1442\u001b[0;31m         \u001b[0mself\u001b[0m\u001b[0;34m.\u001b[0m\u001b[0m_engine\u001b[0m \u001b[0;34m=\u001b[0m \u001b[0mself\u001b[0m\u001b[0;34m.\u001b[0m\u001b[0m_make_engine\u001b[0m\u001b[0;34m(\u001b[0m\u001b[0mf\u001b[0m\u001b[0;34m,\u001b[0m \u001b[0mself\u001b[0m\u001b[0;34m.\u001b[0m\u001b[0mengine\u001b[0m\u001b[0;34m)\u001b[0m\u001b[0;34m\u001b[0m\u001b[0;34m\u001b[0m\u001b[0m\n\u001b[0m\u001b[1;32m   1443\u001b[0m \u001b[0;34m\u001b[0m\u001b[0m\n\u001b[1;32m   1444\u001b[0m     \u001b[0;32mdef\u001b[0m \u001b[0mclose\u001b[0m\u001b[0;34m(\u001b[0m\u001b[0mself\u001b[0m\u001b[0;34m)\u001b[0m \u001b[0;34m->\u001b[0m \u001b[0;32mNone\u001b[0m\u001b[0;34m:\u001b[0m\u001b[0;34m\u001b[0m\u001b[0;34m\u001b[0m\u001b[0m\n",
            "\u001b[0;32m/usr/local/lib/python3.10/dist-packages/pandas/io/parsers/readers.py\u001b[0m in \u001b[0;36m_make_engine\u001b[0;34m(self, f, engine)\u001b[0m\n\u001b[1;32m   1733\u001b[0m                 \u001b[0;32mif\u001b[0m \u001b[0;34m\"b\"\u001b[0m \u001b[0;32mnot\u001b[0m \u001b[0;32min\u001b[0m \u001b[0mmode\u001b[0m\u001b[0;34m:\u001b[0m\u001b[0;34m\u001b[0m\u001b[0;34m\u001b[0m\u001b[0m\n\u001b[1;32m   1734\u001b[0m                     \u001b[0mmode\u001b[0m \u001b[0;34m+=\u001b[0m \u001b[0;34m\"b\"\u001b[0m\u001b[0;34m\u001b[0m\u001b[0;34m\u001b[0m\u001b[0m\n\u001b[0;32m-> 1735\u001b[0;31m             self.handles = get_handle(\n\u001b[0m\u001b[1;32m   1736\u001b[0m                 \u001b[0mf\u001b[0m\u001b[0;34m,\u001b[0m\u001b[0;34m\u001b[0m\u001b[0;34m\u001b[0m\u001b[0m\n\u001b[1;32m   1737\u001b[0m                 \u001b[0mmode\u001b[0m\u001b[0;34m,\u001b[0m\u001b[0;34m\u001b[0m\u001b[0;34m\u001b[0m\u001b[0m\n",
            "\u001b[0;32m/usr/local/lib/python3.10/dist-packages/pandas/io/common.py\u001b[0m in \u001b[0;36mget_handle\u001b[0;34m(path_or_buf, mode, encoding, compression, memory_map, is_text, errors, storage_options)\u001b[0m\n\u001b[1;32m    854\u001b[0m         \u001b[0;32mif\u001b[0m \u001b[0mioargs\u001b[0m\u001b[0;34m.\u001b[0m\u001b[0mencoding\u001b[0m \u001b[0;32mand\u001b[0m \u001b[0;34m\"b\"\u001b[0m \u001b[0;32mnot\u001b[0m \u001b[0;32min\u001b[0m \u001b[0mioargs\u001b[0m\u001b[0;34m.\u001b[0m\u001b[0mmode\u001b[0m\u001b[0;34m:\u001b[0m\u001b[0;34m\u001b[0m\u001b[0;34m\u001b[0m\u001b[0m\n\u001b[1;32m    855\u001b[0m             \u001b[0;31m# Encoding\u001b[0m\u001b[0;34m\u001b[0m\u001b[0;34m\u001b[0m\u001b[0m\n\u001b[0;32m--> 856\u001b[0;31m             handle = open(\n\u001b[0m\u001b[1;32m    857\u001b[0m                 \u001b[0mhandle\u001b[0m\u001b[0;34m,\u001b[0m\u001b[0;34m\u001b[0m\u001b[0;34m\u001b[0m\u001b[0m\n\u001b[1;32m    858\u001b[0m                 \u001b[0mioargs\u001b[0m\u001b[0;34m.\u001b[0m\u001b[0mmode\u001b[0m\u001b[0;34m,\u001b[0m\u001b[0;34m\u001b[0m\u001b[0;34m\u001b[0m\u001b[0m\n",
            "\u001b[0;31mFileNotFoundError\u001b[0m: [Errno 2] No such file or directory: '../input/are-your-employees-burning-out/train.csv'"
          ]
        }
      ],
      "source": [
        "df = pd.read_csv('../input/are-your-employees-burning-out/train.csv', parse_dates=['Date of Joining'])\n",
        "test_df = pd.read_csv('../input/are-your-employees-burning-out/test.csv', parse_dates=['Date of Joining'])\n",
        "sample_submission = pd.read_csv('../input/are-your-employees-burning-out/sample_submission.csv')"
      ]
    },
    {
      "cell_type": "code",
      "execution_count": null,
      "metadata": {
        "execution": {
          "iopub.execute_input": "2020-11-25T13:04:59.650586Z",
          "iopub.status.busy": "2020-11-25T13:04:59.649637Z",
          "iopub.status.idle": "2020-11-25T13:04:59.664054Z",
          "shell.execute_reply": "2020-11-25T13:04:59.663323Z"
        },
        "papermill": {
          "duration": 0.058928,
          "end_time": "2020-11-25T13:04:59.664195",
          "exception": false,
          "start_time": "2020-11-25T13:04:59.605267",
          "status": "completed"
        },
        "tags": [],
        "id": "MLpIQARHSool"
      },
      "outputs": [],
      "source": [
        "df.head()"
      ]
    },
    {
      "cell_type": "code",
      "execution_count": null,
      "metadata": {
        "execution": {
          "iopub.execute_input": "2020-11-25T13:04:59.734775Z",
          "iopub.status.busy": "2020-11-25T13:04:59.733598Z",
          "iopub.status.idle": "2020-11-25T13:04:59.738416Z",
          "shell.execute_reply": "2020-11-25T13:04:59.737798Z"
        },
        "papermill": {
          "duration": 0.047753,
          "end_time": "2020-11-25T13:04:59.738543",
          "exception": false,
          "start_time": "2020-11-25T13:04:59.690790",
          "status": "completed"
        },
        "tags": [],
        "id": "baNj0NFhSoom"
      },
      "outputs": [],
      "source": [
        "test_df.head()"
      ]
    },
    {
      "cell_type": "markdown",
      "metadata": {
        "papermill": {
          "duration": 0.027015,
          "end_time": "2020-11-25T13:04:59.793079",
          "exception": false,
          "start_time": "2020-11-25T13:04:59.766064",
          "status": "completed"
        },
        "tags": [],
        "id": "IIbZkdF8Soom"
      },
      "source": [
        "#### Check for missing values and drop rows with any"
      ]
    },
    {
      "cell_type": "code",
      "execution_count": null,
      "metadata": {
        "execution": {
          "iopub.execute_input": "2020-11-25T13:04:59.868313Z",
          "iopub.status.busy": "2020-11-25T13:04:59.867453Z",
          "iopub.status.idle": "2020-11-25T13:04:59.877115Z",
          "shell.execute_reply": "2020-11-25T13:04:59.876295Z"
        },
        "papermill": {
          "duration": 0.055814,
          "end_time": "2020-11-25T13:04:59.877262",
          "exception": false,
          "start_time": "2020-11-25T13:04:59.821448",
          "status": "completed"
        },
        "tags": [],
        "id": "0KxlpYtBSoon"
      },
      "outputs": [],
      "source": [
        "df.isna().sum()"
      ]
    },
    {
      "cell_type": "code",
      "execution_count": null,
      "metadata": {
        "execution": {
          "iopub.execute_input": "2020-11-25T13:04:59.951162Z",
          "iopub.status.busy": "2020-11-25T13:04:59.949895Z",
          "iopub.status.idle": "2020-11-25T13:04:59.959662Z",
          "shell.execute_reply": "2020-11-25T13:04:59.958793Z"
        },
        "papermill": {
          "duration": 0.052319,
          "end_time": "2020-11-25T13:04:59.959808",
          "exception": false,
          "start_time": "2020-11-25T13:04:59.907489",
          "status": "completed"
        },
        "tags": [],
        "id": "OAng1mgUSoon"
      },
      "outputs": [],
      "source": [
        "test_df.isna().sum()"
      ]
    },
    {
      "cell_type": "code",
      "execution_count": null,
      "metadata": {
        "execution": {
          "iopub.execute_input": "2020-11-25T13:05:00.034291Z",
          "iopub.status.busy": "2020-11-25T13:05:00.033331Z",
          "iopub.status.idle": "2020-11-25T13:05:00.065619Z",
          "shell.execute_reply": "2020-11-25T13:05:00.064814Z"
        },
        "papermill": {
          "duration": 0.076832,
          "end_time": "2020-11-25T13:05:00.065752",
          "exception": false,
          "start_time": "2020-11-25T13:04:59.988920",
          "status": "completed"
        },
        "tags": [],
        "id": "Jm4jeCB0Soon"
      },
      "outputs": [],
      "source": [
        "## Missing values in training data for 3 columns\n",
        "## Currently drop all rows with any na values\n",
        "df = df.dropna(how='any')"
      ]
    },
    {
      "cell_type": "code",
      "execution_count": null,
      "metadata": {
        "execution": {
          "iopub.execute_input": "2020-11-25T13:05:00.135813Z",
          "iopub.status.busy": "2020-11-25T13:05:00.134730Z",
          "iopub.status.idle": "2020-11-25T13:05:00.139788Z",
          "shell.execute_reply": "2020-11-25T13:05:00.139157Z"
        },
        "papermill": {
          "duration": 0.04451,
          "end_time": "2020-11-25T13:05:00.139917",
          "exception": false,
          "start_time": "2020-11-25T13:05:00.095407",
          "status": "completed"
        },
        "tags": [],
        "id": "THxICZamSooo"
      },
      "outputs": [],
      "source": [
        "df.dtypes"
      ]
    },
    {
      "cell_type": "code",
      "execution_count": null,
      "metadata": {
        "execution": {
          "iopub.execute_input": "2020-11-25T13:05:00.209509Z",
          "iopub.status.busy": "2020-11-25T13:05:00.208736Z",
          "iopub.status.idle": "2020-11-25T13:05:00.511553Z",
          "shell.execute_reply": "2020-11-25T13:05:00.510881Z"
        },
        "papermill": {
          "duration": 0.34243,
          "end_time": "2020-11-25T13:05:00.511691",
          "exception": false,
          "start_time": "2020-11-25T13:05:00.169261",
          "status": "completed"
        },
        "tags": [],
        "id": "y6TPTQuKSooo"
      },
      "outputs": [],
      "source": [
        "fig, axs = plt.subplots(1,2, figsize=(10,5))\n",
        "sns.countplot(df['Gender'], ax = axs[0])\n",
        "axs[0].set_title('Training Data')\n",
        "axs[0].set_xlabel('Gender')\n",
        "axs[0].set_ylabel('Count')\n",
        "\n",
        "sns.countplot(test_df['Gender'], ax = axs[1])\n",
        "axs[1].set_title('Testing Data')\n",
        "axs[1].set_xlabel('Gender')\n",
        "axs[1].set_ylabel('Count')"
      ]
    },
    {
      "cell_type": "code",
      "execution_count": null,
      "metadata": {
        "execution": {
          "iopub.execute_input": "2020-11-25T13:05:00.598842Z",
          "iopub.status.busy": "2020-11-25T13:05:00.595926Z",
          "iopub.status.idle": "2020-11-25T13:05:00.614249Z",
          "shell.execute_reply": "2020-11-25T13:05:00.613519Z"
        },
        "papermill": {
          "duration": 0.071715,
          "end_time": "2020-11-25T13:05:00.614391",
          "exception": false,
          "start_time": "2020-11-25T13:05:00.542676",
          "status": "completed"
        },
        "tags": [],
        "id": "gb9oqYW0Sooo"
      },
      "outputs": [],
      "source": [
        "## Gender encoding 0 for male and 1 for female\n",
        "df['Gender'] = df['Gender'].apply(lambda x: 0 if x=='Male' else 1)\n",
        "test_df['Gender'] = test_df['Gender'].apply(lambda x: 0 if x=='Male' else 1)"
      ]
    },
    {
      "cell_type": "code",
      "execution_count": null,
      "metadata": {
        "execution": {
          "iopub.execute_input": "2020-11-25T13:05:00.693155Z",
          "iopub.status.busy": "2020-11-25T13:05:00.687499Z",
          "iopub.status.idle": "2020-11-25T13:05:00.953092Z",
          "shell.execute_reply": "2020-11-25T13:05:00.952308Z"
        },
        "papermill": {
          "duration": 0.307542,
          "end_time": "2020-11-25T13:05:00.953251",
          "exception": false,
          "start_time": "2020-11-25T13:05:00.645709",
          "status": "completed"
        },
        "tags": [],
        "id": "ht_pavlMSooo"
      },
      "outputs": [],
      "source": [
        "fig, axs = plt.subplots(1,2, figsize=(10,5))\n",
        "sns.countplot(df['Company Type'], ax = axs[0])\n",
        "axs[0].set_title('Training Data')\n",
        "axs[0].set_xlabel('Company Type')\n",
        "axs[0].set_ylabel('Count')\n",
        "\n",
        "sns.countplot(test_df['Company Type'], ax = axs[1])\n",
        "axs[1].set_title('Testing Data')\n",
        "axs[1].set_xlabel('Company Type')\n",
        "axs[1].set_ylabel('Count')"
      ]
    },
    {
      "cell_type": "code",
      "execution_count": null,
      "metadata": {
        "execution": {
          "iopub.execute_input": "2020-11-25T13:05:01.053428Z",
          "iopub.status.busy": "2020-11-25T13:05:01.041144Z",
          "iopub.status.idle": "2020-11-25T13:05:01.057074Z",
          "shell.execute_reply": "2020-11-25T13:05:01.056372Z"
        },
        "papermill": {
          "duration": 0.071066,
          "end_time": "2020-11-25T13:05:01.057232",
          "exception": false,
          "start_time": "2020-11-25T13:05:00.986166",
          "status": "completed"
        },
        "tags": [],
        "id": "BRCbs4YkSoop"
      },
      "outputs": [],
      "source": [
        "## Company Type is binary categorical\n",
        "\n",
        "df['Company Type'] = df['Company Type'].apply(lambda x: 0 if x == 'Service' else 1)\n",
        "test_df['Company Type'] = test_df['Company Type'].apply(lambda x: 0 if x == 'Service' else 1)"
      ]
    },
    {
      "cell_type": "code",
      "execution_count": null,
      "metadata": {
        "execution": {
          "iopub.execute_input": "2020-11-25T13:05:01.223195Z",
          "iopub.status.busy": "2020-11-25T13:05:01.137831Z",
          "iopub.status.idle": "2020-11-25T13:05:01.491979Z",
          "shell.execute_reply": "2020-11-25T13:05:01.491391Z"
        },
        "papermill": {
          "duration": 0.401716,
          "end_time": "2020-11-25T13:05:01.492126",
          "exception": false,
          "start_time": "2020-11-25T13:05:01.090410",
          "status": "completed"
        },
        "tags": [],
        "id": "aZE2RBnjSoop"
      },
      "outputs": [],
      "source": [
        "fig, axs = plt.subplots(1,2, figsize=(10,5))\n",
        "sns.countplot(df['WFH Setup Available'], ax = axs[0])\n",
        "axs[0].set_title('Training Data')\n",
        "axs[0].set_xlabel('WFH Setup')\n",
        "axs[0].set_ylabel('Count')\n",
        "\n",
        "sns.countplot(test_df['WFH Setup Available'], ax = axs[1])\n",
        "axs[1].set_title('Testing Data')\n",
        "axs[1].set_xlabel('WFH Setup')\n",
        "axs[1].set_ylabel('Count')\n",
        "\n",
        "\n",
        "\n",
        "## WFH Encoding Binary\n",
        "\n",
        "df['WFH Setup Available'] = df['WFH Setup Available'].apply(lambda x: 0 if x == 'No' else 1)\n",
        "test_df['WFH Setup Available'] = test_df['WFH Setup Available'].apply(lambda x: 0 if x == 'No' else 1)"
      ]
    },
    {
      "cell_type": "code",
      "execution_count": null,
      "metadata": {
        "execution": {
          "iopub.execute_input": "2020-11-25T13:05:01.569295Z",
          "iopub.status.busy": "2020-11-25T13:05:01.568405Z",
          "iopub.status.idle": "2020-11-25T13:05:01.800179Z",
          "shell.execute_reply": "2020-11-25T13:05:01.799195Z"
        },
        "papermill": {
          "duration": 0.273313,
          "end_time": "2020-11-25T13:05:01.800342",
          "exception": false,
          "start_time": "2020-11-25T13:05:01.527029",
          "status": "completed"
        },
        "tags": [],
        "id": "eb1WIE1VSoop"
      },
      "outputs": [],
      "source": [
        "sns.countplot(df['Designation'], color='green', alpha = 0.8)\n",
        "plt.title('Designation Countplot')\n",
        "\n",
        "\n",
        "## Convert Designations to integers\n",
        "\n",
        "df['Designation'] = df['Designation'].astype('int8')\n",
        "test_df['Designation'] = test_df['Designation'].astype('int8')"
      ]
    },
    {
      "cell_type": "code",
      "execution_count": null,
      "metadata": {
        "execution": {
          "iopub.execute_input": "2020-11-25T13:05:01.887369Z",
          "iopub.status.busy": "2020-11-25T13:05:01.886504Z",
          "iopub.status.idle": "2020-11-25T13:05:02.091711Z",
          "shell.execute_reply": "2020-11-25T13:05:02.090933Z"
        },
        "papermill": {
          "duration": 0.250896,
          "end_time": "2020-11-25T13:05:02.091839",
          "exception": false,
          "start_time": "2020-11-25T13:05:01.840943",
          "status": "completed"
        },
        "tags": [],
        "id": "nCQ_5MaKSooq"
      },
      "outputs": [],
      "source": [
        "sns.countplot(df['Resource Allocation'], color='green', alpha = 0.8)\n",
        "plt.title('Resource Allocation Countplot')\n",
        "\n",
        "## Convert Designations to integers\n",
        "\n",
        "df['Resource Allocation'] = df['Resource Allocation'].astype('int8')\n",
        "test_df['Resource Allocation'] = test_df['Resource Allocation'].astype('int8')"
      ]
    },
    {
      "cell_type": "code",
      "execution_count": null,
      "metadata": {
        "execution": {
          "iopub.execute_input": "2020-11-25T13:05:02.189544Z",
          "iopub.status.busy": "2020-11-25T13:05:02.188683Z",
          "iopub.status.idle": "2020-11-25T13:05:02.466038Z",
          "shell.execute_reply": "2020-11-25T13:05:02.465292Z"
        },
        "papermill": {
          "duration": 0.326412,
          "end_time": "2020-11-25T13:05:02.466191",
          "exception": false,
          "start_time": "2020-11-25T13:05:02.139779",
          "status": "completed"
        },
        "tags": [],
        "id": "aMXbgxClSooq"
      },
      "outputs": [],
      "source": [
        "sns.distplot(df['Mental Fatigue Score'])\n",
        "df['Mental Fatigue Score'].describe()"
      ]
    },
    {
      "cell_type": "code",
      "execution_count": null,
      "metadata": {
        "execution": {
          "iopub.execute_input": "2020-11-25T13:05:02.556250Z",
          "iopub.status.busy": "2020-11-25T13:05:02.546903Z",
          "iopub.status.idle": "2020-11-25T13:05:02.840270Z",
          "shell.execute_reply": "2020-11-25T13:05:02.839502Z"
        },
        "papermill": {
          "duration": 0.336943,
          "end_time": "2020-11-25T13:05:02.840400",
          "exception": false,
          "start_time": "2020-11-25T13:05:02.503457",
          "status": "completed"
        },
        "tags": [],
        "id": "ozewfz5kSooq"
      },
      "outputs": [],
      "source": [
        "sns.distplot(df['Burn Rate'])\n",
        "df['Burn Rate'].describe()"
      ]
    },
    {
      "cell_type": "code",
      "execution_count": null,
      "metadata": {
        "execution": {
          "iopub.execute_input": "2020-11-25T13:05:02.926727Z",
          "iopub.status.busy": "2020-11-25T13:05:02.925685Z",
          "iopub.status.idle": "2020-11-25T13:05:02.932169Z",
          "shell.execute_reply": "2020-11-25T13:05:02.931360Z"
        },
        "papermill": {
          "duration": 0.053022,
          "end_time": "2020-11-25T13:05:02.932315",
          "exception": false,
          "start_time": "2020-11-25T13:05:02.879293",
          "status": "completed"
        },
        "tags": [],
        "id": "YjUOAn4CSooq"
      },
      "outputs": [],
      "source": [
        "## Check range of Date variable\n",
        "df['Date of Joining'].max() - df['Date of Joining'].min() ## Data over timeperiod of 1year"
      ]
    },
    {
      "cell_type": "code",
      "execution_count": null,
      "metadata": {
        "execution": {
          "iopub.execute_input": "2020-11-25T13:05:03.060667Z",
          "iopub.status.busy": "2020-11-25T13:05:03.022318Z",
          "iopub.status.idle": "2020-11-25T13:05:09.384262Z",
          "shell.execute_reply": "2020-11-25T13:05:09.383466Z"
        },
        "papermill": {
          "duration": 6.412392,
          "end_time": "2020-11-25T13:05:09.384399",
          "exception": false,
          "start_time": "2020-11-25T13:05:02.972007",
          "status": "completed"
        },
        "tags": [],
        "id": "g0iGHQeTSoor"
      },
      "outputs": [],
      "source": [
        "### Moving 'Date of Joining' start from zero and Min max scale manually\n",
        "\n",
        "df['Date of Joining'] = df['Date of Joining'].apply(lambda x: x- df['Date of Joining'].min())\n",
        "df['Date of Joining'] = df['Date of Joining'].apply(lambda x: x.days)\n",
        "df['Date of Joining'] = df['Date of Joining'].apply(lambda x: x/365)\n",
        "\n",
        "test_df['Date of Joining'] = test_df['Date of Joining'].apply(lambda x: x- test_df['Date of Joining'].min())\n",
        "test_df['Date of Joining'] = test_df['Date of Joining'].apply(lambda x: x.days)\n",
        "test_df['Date of Joining'] = test_df['Date of Joining'].apply(lambda x: x/365)\n"
      ]
    },
    {
      "cell_type": "markdown",
      "metadata": {
        "papermill": {
          "duration": 0.039975,
          "end_time": "2020-11-25T13:05:09.465052",
          "exception": false,
          "start_time": "2020-11-25T13:05:09.425077",
          "status": "completed"
        },
        "tags": [],
        "id": "rLHZ0Zg_Soor"
      },
      "source": [
        "#### Plotting correlation heatmap"
      ]
    },
    {
      "cell_type": "code",
      "execution_count": null,
      "metadata": {
        "execution": {
          "iopub.execute_input": "2020-11-25T13:05:09.554382Z",
          "iopub.status.busy": "2020-11-25T13:05:09.553612Z",
          "iopub.status.idle": "2020-11-25T13:05:10.007259Z",
          "shell.execute_reply": "2020-11-25T13:05:10.006391Z"
        },
        "papermill": {
          "duration": 0.501615,
          "end_time": "2020-11-25T13:05:10.007400",
          "exception": false,
          "start_time": "2020-11-25T13:05:09.505785",
          "status": "completed"
        },
        "tags": [],
        "id": "rMmptHeISoor"
      },
      "outputs": [],
      "source": [
        "mask = np.triu(np.ones_like(df.corr()))\n",
        "plt.figure(figsize=(10,10))\n",
        "heatmap = sns.heatmap(df.corr(), mask=mask,\n",
        "                      vmin=-1, vmax=1, annot=True, cmap='BrBG')"
      ]
    },
    {
      "cell_type": "markdown",
      "metadata": {
        "papermill": {
          "duration": 0.041105,
          "end_time": "2020-11-25T13:05:10.095430",
          "exception": false,
          "start_time": "2020-11-25T13:05:10.054325",
          "status": "completed"
        },
        "tags": [],
        "id": "9rTNch3iSoor"
      },
      "source": [
        "#### Reformatting data for training model"
      ]
    },
    {
      "cell_type": "code",
      "execution_count": null,
      "metadata": {
        "execution": {
          "iopub.execute_input": "2020-11-25T13:05:10.187214Z",
          "iopub.status.busy": "2020-11-25T13:05:10.186416Z",
          "iopub.status.idle": "2020-11-25T13:05:10.195202Z",
          "shell.execute_reply": "2020-11-25T13:05:10.195803Z"
        },
        "papermill": {
          "duration": 0.057423,
          "end_time": "2020-11-25T13:05:10.195977",
          "exception": false,
          "start_time": "2020-11-25T13:05:10.138554",
          "status": "completed"
        },
        "tags": [],
        "id": "pXbWnGYaSoor"
      },
      "outputs": [],
      "source": [
        "X = df.drop(['Burn Rate','Employee ID'], axis='columns')\n",
        "y = df['Burn Rate']\n",
        "\n",
        "t = test_df.drop(['Employee ID'], axis='columns')"
      ]
    },
    {
      "cell_type": "code",
      "execution_count": null,
      "metadata": {
        "execution": {
          "iopub.execute_input": "2020-11-25T13:05:10.294014Z",
          "iopub.status.busy": "2020-11-25T13:05:10.292903Z",
          "iopub.status.idle": "2020-11-25T13:05:10.298455Z",
          "shell.execute_reply": "2020-11-25T13:05:10.297793Z"
        },
        "papermill": {
          "duration": 0.060377,
          "end_time": "2020-11-25T13:05:10.298583",
          "exception": false,
          "start_time": "2020-11-25T13:05:10.238206",
          "status": "completed"
        },
        "tags": [],
        "id": "U6T7_Fi8Soos"
      },
      "outputs": [],
      "source": [
        "t.head()"
      ]
    },
    {
      "cell_type": "markdown",
      "metadata": {
        "papermill": {
          "duration": 0.042139,
          "end_time": "2020-11-25T13:05:10.383569",
          "exception": false,
          "start_time": "2020-11-25T13:05:10.341430",
          "status": "completed"
        },
        "tags": [],
        "id": "tjTCD0h0Soos"
      },
      "source": [
        "#### Model building, training and making predictions"
      ]
    },
    {
      "cell_type": "code",
      "execution_count": null,
      "metadata": {
        "execution": {
          "iopub.execute_input": "2020-11-25T13:05:10.481199Z",
          "iopub.status.busy": "2020-11-25T13:05:10.480402Z",
          "iopub.status.idle": "2020-11-25T13:05:10.568342Z",
          "shell.execute_reply": "2020-11-25T13:05:10.569205Z"
        },
        "papermill": {
          "duration": 0.142434,
          "end_time": "2020-11-25T13:05:10.569394",
          "exception": false,
          "start_time": "2020-11-25T13:05:10.426960",
          "status": "completed"
        },
        "tags": [],
        "id": "LR9T2f3cSoos"
      },
      "outputs": [],
      "source": [
        "pf = PolynomialFeatures(2) ## sklearn class for making polynomial features of input variables\n",
        "X = pf.fit_transform(X.drop('Gender', axis=1))\n",
        "t = pf.transform(t.drop('Gender', axis=1))\n",
        "lr = LinearRegression() ## Model Build\n",
        "lr.fit(X,y)\n",
        "lr.score(X,y)"
      ]
    },
    {
      "cell_type": "code",
      "execution_count": null,
      "metadata": {
        "execution": {
          "iopub.execute_input": "2020-11-25T13:05:10.664675Z",
          "iopub.status.busy": "2020-11-25T13:05:10.663748Z",
          "iopub.status.idle": "2020-11-25T13:05:10.667985Z",
          "shell.execute_reply": "2020-11-25T13:05:10.667233Z"
        },
        "papermill": {
          "duration": 0.052853,
          "end_time": "2020-11-25T13:05:10.668151",
          "exception": false,
          "start_time": "2020-11-25T13:05:10.615298",
          "status": "completed"
        },
        "tags": [],
        "id": "tb_SY0L7Soos"
      },
      "outputs": [],
      "source": [
        "predictions = lr.predict(t)"
      ]
    },
    {
      "cell_type": "markdown",
      "metadata": {
        "papermill": {
          "duration": 0.042934,
          "end_time": "2020-11-25T13:05:10.757697",
          "exception": false,
          "start_time": "2020-11-25T13:05:10.714763",
          "status": "completed"
        },
        "tags": [],
        "id": "ug3kQdXZSoos"
      },
      "source": [
        "#### Creating a submission file"
      ]
    },
    {
      "cell_type": "code",
      "execution_count": null,
      "metadata": {
        "execution": {
          "iopub.execute_input": "2020-11-25T13:05:10.852555Z",
          "iopub.status.busy": "2020-11-25T13:05:10.851556Z",
          "iopub.status.idle": "2020-11-25T13:05:10.855182Z",
          "shell.execute_reply": "2020-11-25T13:05:10.854414Z"
        },
        "papermill": {
          "duration": 0.054468,
          "end_time": "2020-11-25T13:05:10.855316",
          "exception": false,
          "start_time": "2020-11-25T13:05:10.800848",
          "status": "completed"
        },
        "tags": [],
        "id": "oaywR_hZSoos"
      },
      "outputs": [],
      "source": [
        "def create_submission(file_name, predictions):\n",
        "    pred = pd.DataFrame(predictions, index=test_df['Employee ID'], columns=['Burn Rate'])\n",
        "    pred.reset_index(inplace=True)\n",
        "    pred.to_csv(file_name + '.csv', index=False)"
      ]
    },
    {
      "cell_type": "code",
      "execution_count": null,
      "metadata": {
        "execution": {
          "iopub.execute_input": "2020-11-25T13:05:10.950740Z",
          "iopub.status.busy": "2020-11-25T13:05:10.949830Z",
          "iopub.status.idle": "2020-11-25T13:05:11.352619Z",
          "shell.execute_reply": "2020-11-25T13:05:11.351988Z"
        },
        "papermill": {
          "duration": 0.453961,
          "end_time": "2020-11-25T13:05:11.352754",
          "exception": false,
          "start_time": "2020-11-25T13:05:10.898793",
          "status": "completed"
        },
        "tags": [],
        "id": "zl0LwdXPSoot"
      },
      "outputs": [],
      "source": [
        "create_submission('PolyRegression deg2', predictions)\n",
        "pd.read_csv('PolyRegression deg2.csv').head()"
      ]
    },
    {
      "cell_type": "code",
      "execution_count": null,
      "metadata": {
        "papermill": {
          "duration": 0.044881,
          "end_time": "2020-11-25T13:05:11.441721",
          "exception": false,
          "start_time": "2020-11-25T13:05:11.396840",
          "status": "completed"
        },
        "tags": [],
        "id": "X-UvtRwaSoot"
      },
      "outputs": [],
      "source": []
    }
  ],
  "metadata": {
    "kernelspec": {
      "display_name": "Python 3",
      "language": "python",
      "name": "python3"
    },
    "language_info": {
      "codemirror_mode": {
        "name": "ipython",
        "version": 3
      },
      "file_extension": ".py",
      "mimetype": "text/x-python",
      "name": "python",
      "nbconvert_exporter": "python",
      "pygments_lexer": "ipython3",
      "version": "3.7.6"
    },
    "papermill": {
      "duration": 19.210759,
      "end_time": "2020-11-25T13:05:11.594495",
      "environment_variables": {},
      "exception": null,
      "input_path": "__notebook__.ipynb",
      "output_path": "__notebook__.ipynb",
      "parameters": {},
      "start_time": "2020-11-25T13:04:52.383736",
      "version": "2.1.0"
    },
    "colab": {
      "provenance": [],
      "include_colab_link": true
    }
  },
  "nbformat": 4,
  "nbformat_minor": 0
}